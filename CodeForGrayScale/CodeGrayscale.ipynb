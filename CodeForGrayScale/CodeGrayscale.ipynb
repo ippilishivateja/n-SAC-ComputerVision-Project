{
 "cells": [
  {
   "cell_type": "code",
   "execution_count": 3,
   "id": "8c6aac2a-ed2e-42ef-99f3-e31226be30d5",
   "metadata": {},
   "outputs": [],
   "source": [
    "import cv2\n",
    "import os\n",
    "import multiprocessing\n",
    "from concurrent.futures import ThreadPoolExecutor"
   ]
  },
  {
   "cell_type": "code",
   "execution_count": 5,
   "id": "498587f9-0f26-4bd2-9524-229134ff430a",
   "metadata": {},
   "outputs": [],
   "source": [
    "# Input and output directories\n",
    "video_folder = \"/Users/srujansadineni/Desktop/Video/video\"\n",
    "frames_output_folder = \"/Users/srujansadineni/Desktop/Video/white\"\n",
    "grayscale_output_folder = \"/Users/srujansadineni/Desktop/Video/black\"\n"
   ]
  },
  {
   "cell_type": "code",
   "execution_count": 7,
   "id": "74b3a952-7fb4-4ac7-bcb6-4a56f34c1e1a",
   "metadata": {},
   "outputs": [
    {
     "name": "stdout",
     "output_type": "stream",
     "text": [
      "✅ Processed: Geometric shapes and their light and shadow forms - Saved 4018 frames\n",
      "✅ All videos processed successfully!\n"
     ]
    }
   ],
   "source": [
    "# Create output directories\n",
    "os.makedirs(frames_output_folder, exist_ok=True)\n",
    "os.makedirs(grayscale_output_folder, exist_ok=True)\n",
    "\n",
    "use_cuda = cv2.cuda.getCudaEnabledDeviceCount() > 0\n",
    "\n",
    "def process_frame(frame):\n",
    "    if use_cuda:\n",
    "        gpu_frame = cv2.cuda_GpuMat()\n",
    "        gpu_frame.upload(frame)  \n",
    "        gray_gpu = cv2.cuda.cvtColor(gpu_frame, cv2.COLOR_BGR2GRAY)  \n",
    "        gray_frame = gray_gpu.download() \n",
    "    else:\n",
    "        gray_frame = cv2.cvtColor(frame, cv2.COLOR_BGR2GRAY)  \n",
    "\n",
    "    return gray_frame\n",
    "\n",
    "def process_video(video_path):\n",
    "    video_name = os.path.splitext(os.path.basename(video_path))[0]\n",
    "    frame_folder = os.path.join(frames_output_folder, video_name)\n",
    "    gray_folder = os.path.join(grayscale_output_folder, video_name)\n",
    "\n",
    "    os.makedirs(frame_folder, exist_ok=True)\n",
    "    os.makedirs(gray_folder, exist_ok=True)\n",
    "\n",
    "    cap = cv2.VideoCapture(video_path)\n",
    "    \n",
    "    frame_count = 0\n",
    "    saved_count = 0\n",
    "    frame_skip = 3  # Process every 3rd frame for speed\n",
    "\n",
    "    while cap.isOpened():\n",
    "        ret, frame = cap.read()\n",
    "        if not ret:\n",
    "            break\n",
    "\n",
    "        if frame_count % frame_skip == 0:  \n",
    "            frame_filename = os.path.join(frame_folder, f\"frame_{saved_count:04d}.jpg\")\n",
    "            cv2.imwrite(frame_filename, frame, [cv2.IMWRITE_JPEG_QUALITY, 90])  \n",
    "\n",
    "            # Convert frame to grayscale (fast)\n",
    "            gray_image = process_frame(frame)\n",
    "            gray_filename = os.path.join(gray_folder, f\"gray_{saved_count:04d}.jpg\")\n",
    "            cv2.imwrite(gray_filename, gray_image, [cv2.IMWRITE_JPEG_QUALITY, 90])\n",
    "\n",
    "            saved_count += 1\n",
    "\n",
    "        frame_count += 1\n",
    "\n",
    "    cap.release()\n",
    "    print(f\"✅ Processed: {video_name} - Saved {saved_count} frames\")\n",
    "\n",
    "# all video files in folder\n",
    "video_files = [os.path.join(video_folder, f) for f in os.listdir(video_folder) if f.endswith(('.mp4', '.avi', '.mov'))]\n",
    "\n",
    "# Use multiprocessing to process videos in parallel\n",
    "if __name__ == \"__main__\":\n",
    "    with ThreadPoolExecutor(max_workers=6) as executor:  \n",
    "        executor.map(process_video, video_files)\n",
    "\n",
    "print(\"✅ All videos processed successfully!\")\n"
   ]
  }
 ],
 "metadata": {
  "kernelspec": {
   "display_name": "Python 3 (ipykernel)",
   "language": "python",
   "name": "python3"
  },
  "language_info": {
   "codemirror_mode": {
    "name": "ipython",
    "version": 3
   },
   "file_extension": ".py",
   "mimetype": "text/x-python",
   "name": "python",
   "nbconvert_exporter": "python",
   "pygments_lexer": "ipython3",
   "version": "3.11.9"
  }
 },
 "nbformat": 4,
 "nbformat_minor": 5
}
